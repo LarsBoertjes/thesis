{
 "cells": [
  {
   "cell_type": "code",
   "id": "initial_id",
   "metadata": {
    "collapsed": true,
    "ExecuteTime": {
     "end_time": "2025-04-08T07:19:01.922830Z",
     "start_time": "2025-04-08T07:18:46.635203Z"
    }
   },
   "source": [
    "import os\n",
    "import cv2\n",
    "import numpy as np\n",
    "import random\n",
    "from segment_anything import sam_model_registry, SamAutomaticMaskGenerator"
   ],
   "outputs": [],
   "execution_count": 1
  },
  {
   "metadata": {
    "ExecuteTime": {
     "end_time": "2025-04-08T07:19:01.954801Z",
     "start_time": "2025-04-08T07:19:01.939737Z"
    }
   },
   "cell_type": "code",
   "source": [
    "input_folder = \"../../data/experimental/bouwpub/building_masks/\"\n",
    "output_folder = \"../../data/experimental/bouwpub/building_level_segmentation_test/\"\n",
    "os.makedirs(output_folder, exist_ok=True)"
   ],
   "id": "956246004a6f4d65",
   "outputs": [],
   "execution_count": 2
  },
  {
   "metadata": {
    "ExecuteTime": {
     "end_time": "2025-04-08T09:11:57.524294Z",
     "start_time": "2025-04-08T09:11:55.551288Z"
    }
   },
   "cell_type": "code",
   "source": [
    "sam_checkpoint = \"../../experiments/checkpoints/sam_vit_b_01ec64.pth\"\n",
    "model_type = \"vit_b\"\n",
    "device = \"cuda\"\n",
    "\n",
    "sam = sam_model_registry[model_type](checkpoint=sam_checkpoint)\n",
    "sam.to(device=device)\n",
    "\n",
    "mask_generator = SamAutomaticMaskGenerator(\n",
    "    model=sam,\n",
    "    crop_n_layers=4\n",
    ")\n"
   ],
   "id": "32e709c720719929",
   "outputs": [],
   "execution_count": 58
  },
  {
   "metadata": {
    "jupyter": {
     "is_executing": true
    },
    "ExecuteTime": {
     "start_time": "2025-04-08T09:11:57.538754Z"
    }
   },
   "cell_type": "code",
   "source": [
    "for imageid in os.listdir(input_folder):\n",
    "    if imageid != \"IMG-20240605-WA0034.png\":\n",
    "        continue\n",
    "\n",
    "    image_path = os.path.join(input_folder, imageid)\n",
    "\n",
    "    # Load image with transparency support\n",
    "    image = cv2.imread(image_path, cv2.IMREAD_UNCHANGED)\n",
    "\n",
    "    # Ensure it has an alpha channel\n",
    "    if image.shape[-1] == 4:  # RGBA\n",
    "        alpha_channel = image[:, :, 3]\n",
    "        image_rgb = cv2.cvtColor(image, cv2.COLOR_BGRA2RGB)\n",
    "    else:  # No transparency\n",
    "        alpha_channel = np.ones(image.shape[:2], dtype=np.uint8) * 255\n",
    "        image_rgb = cv2.cvtColor(image, cv2.COLOR_BGR2RGB)\n",
    "\n",
    "    # Generate masks\n",
    "    masks = mask_generator.generate(image_rgb)\n",
    "\n",
    "    # Create an RGBA output image\n",
    "    mask_image_rgba = np.zeros((image.shape[0], image.shape[1], 4), dtype=np.uint8)\n",
    "\n",
    "    for ann in masks:\n",
    "        mask = ann['segmentation']\n",
    "\n",
    "        color = [random.randint(0, 255) for _ in range(3)]\n",
    "        mask_image_rgba[mask, :3] = color  # Assign color\n",
    "        mask_image_rgba[mask, 3] = 255  # Make mask visible\n",
    "\n",
    "    # Save with a unique filename if file already exists\n",
    "    base_name, ext = os.path.splitext(imageid)\n",
    "    output_path = os.path.join(output_folder, imageid)\n",
    "    count = 1\n",
    "    while os.path.exists(output_path):\n",
    "        new_name = f\"{base_name}_{count}{ext}\"\n",
    "        output_path = os.path.join(output_folder, new_name)\n",
    "        count += 1\n",
    "\n",
    "    cv2.imwrite(output_path, mask_image_rgba)\n",
    "\n",
    "    print(f\"Processed: {imageid} -> Saved at {output_path}\")\n",
    "\n",
    "print(\"Segmentation complete!\")"
   ],
   "id": "3c6d3d0a61a42192",
   "outputs": [],
   "execution_count": null
  },
  {
   "metadata": {
    "ExecuteTime": {
     "end_time": "2025-04-08T08:14:23.623113Z",
     "start_time": "2025-04-08T08:14:23.613639Z"
    }
   },
   "cell_type": "code",
   "source": "",
   "id": "e677fdc51c0723e6",
   "outputs": [],
   "execution_count": null
  },
  {
   "metadata": {},
   "cell_type": "code",
   "outputs": [],
   "execution_count": null,
   "source": "",
   "id": "e80b5c9ec08805e7"
  }
 ],
 "metadata": {
  "kernelspec": {
   "display_name": "Python 3",
   "language": "python",
   "name": "python3"
  },
  "language_info": {
   "codemirror_mode": {
    "name": "ipython",
    "version": 2
   },
   "file_extension": ".py",
   "mimetype": "text/x-python",
   "name": "python",
   "nbconvert_exporter": "python",
   "pygments_lexer": "ipython2",
   "version": "2.7.6"
  }
 },
 "nbformat": 4,
 "nbformat_minor": 5
}
