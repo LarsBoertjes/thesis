{
 "cells": [
  {
   "cell_type": "code",
   "id": "initial_id",
   "metadata": {
    "collapsed": true,
    "ExecuteTime": {
     "end_time": "2025-03-11T12:27:21.403671Z",
     "start_time": "2025-03-11T12:27:20.815636Z"
    }
   },
   "source": [
    "import cv2 as cv\n",
    "import numpy as np"
   ],
   "outputs": [],
   "execution_count": 2
  },
  {
   "metadata": {
    "ExecuteTime": {
     "end_time": "2025-03-11T12:32:48.321970Z",
     "start_time": "2025-03-11T12:32:48.289530Z"
    }
   },
   "cell_type": "code",
   "source": [
    "# Harris corner detection\n",
    "img1 = cv.imread('../../data/outputs/bagids/0344100000157740_copy/test.png', cv.IMREAD_GRAYSCALE)\n",
    "img2 = cv.imread('../../data/outputs/bagids/0344100000157740_copy/test2.png', cv.IMREAD_GRAYSCALE)\n",
    "\n",
    "sift = cv.SIFT_create()\n"
   ],
   "id": "b1dbce71788b9549",
   "outputs": [],
   "execution_count": 14
  },
  {
   "metadata": {
    "ExecuteTime": {
     "end_time": "2025-03-11T12:33:19.377123Z",
     "start_time": "2025-03-11T12:33:19.259869Z"
    }
   },
   "cell_type": "code",
   "source": [
    "kp1, des1 = sift.detectAndCompute(img1, None)\n",
    "kp2, des2 = sift.detectAndCompute(img2, None)\n",
    "\n",
    "bf = cv.BFMatcher(cv.NORM_L2, crossCheck=True)\n",
    "matches = bf.match(des1, des2)"
   ],
   "id": "50feeccb098b6d69",
   "outputs": [],
   "execution_count": 15
  },
  {
   "metadata": {
    "ExecuteTime": {
     "end_time": "2025-03-11T12:33:32.535339Z",
     "start_time": "2025-03-11T12:33:32.521283Z"
    }
   },
   "cell_type": "code",
   "source": "matches = sorted(matches, key = lambda x:x.distance)",
   "id": "16619bf046a4d35c",
   "outputs": [],
   "execution_count": 16
  },
  {
   "metadata": {
    "ExecuteTime": {
     "end_time": "2025-03-11T12:39:25.982050Z",
     "start_time": "2025-03-11T12:33:55.235154Z"
    }
   },
   "cell_type": "code",
   "source": [
    "img_matches = cv.drawMatches(img1, kp1, img2, kp2, matches[:10], None, flags=cv.DrawMatchesFlags_NOT_DRAW_SINGLE_POINTS)\n",
    "cv.imshow('Matches', img_matches)\n",
    "cv.waitKey(0)\n",
    "cv.destroyAllWindows()"
   ],
   "id": "81eed02788a9715",
   "outputs": [],
   "execution_count": 17
  },
  {
   "metadata": {},
   "cell_type": "code",
   "outputs": [],
   "execution_count": null,
   "source": "import disk-features",
   "id": "c403a0761db2b18c"
  }
 ],
 "metadata": {
  "kernelspec": {
   "display_name": "Python 3",
   "language": "python",
   "name": "python3"
  },
  "language_info": {
   "codemirror_mode": {
    "name": "ipython",
    "version": 2
   },
   "file_extension": ".py",
   "mimetype": "text/x-python",
   "name": "python",
   "nbconvert_exporter": "python",
   "pygments_lexer": "ipython2",
   "version": "2.7.6"
  }
 },
 "nbformat": 4,
 "nbformat_minor": 5
}
